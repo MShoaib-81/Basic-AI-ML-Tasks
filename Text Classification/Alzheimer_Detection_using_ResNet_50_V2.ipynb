{
  "metadata": {
    "kernelspec": {
      "language": "python",
      "display_name": "Python 3",
      "name": "python3"
    },
    "language_info": {
      "pygments_lexer": "ipython3",
      "nbconvert_exporter": "python",
      "version": "3.6.4",
      "file_extension": ".py",
      "codemirror_mode": {
        "name": "ipython",
        "version": 3
      },
      "name": "python",
      "mimetype": "text/x-python"
    },
    "colab": {
      "name": "Alzheimer Detection using ResNet-50 V2",
      "provenance": []
    }
  },
  "nbformat_minor": 0,
  "nbformat": 4,
  "cells": [
    {
      "source": [
        "# IMPORTANT: RUN THIS CELL IN ORDER TO IMPORT YOUR KAGGLE DATA SOURCES,\n",
        "# THEN FEEL FREE TO DELETE THIS CELL.\n",
        "# NOTE: THIS NOTEBOOK ENVIRONMENT DIFFERS FROM KAGGLE'S PYTHON\n",
        "# ENVIRONMENT SO THERE MAY BE MISSING LIBRARIES USED BY YOUR\n",
        "# NOTEBOOK.\n",
        "import kagglehub\n",
        "yasserhessein_dataset_alzheimer_path = kagglehub.dataset_download('yasserhessein/dataset-alzheimer')\n",
        "gauravduttakiit_alzheimer_detection_using_resnet50_v2_path = kagglehub.dataset_download('gauravduttakiit/alzheimer-detection-using-resnet50-v2')\n",
        "\n",
        "print('Data source import complete.')\n"
      ],
      "metadata": {
        "id": "qrWJFwmUCI4D"
      },
      "cell_type": "code",
      "outputs": [],
      "execution_count": null
    },
    {
      "cell_type": "code",
      "source": [
        "# For all of the supported backends (TensorFlow, TensorFlow Lite, ONNX)\n",
        "!pip install lobe[all]"
      ],
      "metadata": {
        "_kg_hide-output": true,
        "execution": {
          "iopub.status.busy": "2021-08-27T12:28:30.7046Z",
          "iopub.execute_input": "2021-08-27T12:28:30.705001Z",
          "iopub.status.idle": "2021-08-27T12:29:47.3585Z",
          "shell.execute_reply.started": "2021-08-27T12:28:30.704914Z",
          "shell.execute_reply": "2021-08-27T12:29:47.357185Z"
        },
        "trusted": true,
        "id": "vvLaCOeLCI4I"
      },
      "execution_count": null,
      "outputs": []
    },
    {
      "cell_type": "code",
      "source": [
        "from lobe import ImageModel\n",
        "\n",
        "model = ImageModel.load(r'../input/alzheimer-detection-using-resnet50-v2/New folder TensorFlow')"
      ],
      "metadata": {
        "execution": {
          "iopub.status.busy": "2021-08-27T12:29:47.361775Z",
          "iopub.execute_input": "2021-08-27T12:29:47.362294Z",
          "iopub.status.idle": "2021-08-27T12:29:55.433129Z",
          "shell.execute_reply.started": "2021-08-27T12:29:47.362231Z",
          "shell.execute_reply": "2021-08-27T12:29:55.432086Z"
        },
        "trusted": true,
        "id": "g5-eoHkpCI4I"
      },
      "execution_count": null,
      "outputs": []
    },
    {
      "cell_type": "code",
      "source": [
        "import os\n",
        "import shutil\n",
        "\n",
        "src = '../input/dataset-alzheimer/Alzheimer_s Dataset/test'\n",
        "dest = './'\n",
        "\n",
        "for path, subdirs, files in os.walk(src):\n",
        "    for name in files:\n",
        "        filename = os.path.join(path, name)\n",
        "        shutil.copy2(filename, dest)"
      ],
      "metadata": {
        "execution": {
          "iopub.status.busy": "2021-08-27T12:29:55.435013Z",
          "iopub.execute_input": "2021-08-27T12:29:55.435283Z",
          "iopub.status.idle": "2021-08-27T12:30:00.221619Z",
          "shell.execute_reply.started": "2021-08-27T12:29:55.435258Z",
          "shell.execute_reply": "2021-08-27T12:30:00.220613Z"
        },
        "trusted": true,
        "id": "T6cdbYeUCI4J"
      },
      "execution_count": null,
      "outputs": []
    },
    {
      "cell_type": "code",
      "source": [
        "import shutil, random, os\n",
        "dirpath = './'\n",
        "destDirectory = './test'\n",
        "\n",
        "filenames = random.sample(os.listdir(dirpath), 9)\n",
        "for fname in filenames:\n",
        "    srcpath = os.path.join(dirpath, fname)\n",
        "    shutil.copyfile(srcpath, destDirectory)\n",
        "filenames"
      ],
      "metadata": {
        "execution": {
          "iopub.status.busy": "2021-08-27T12:30:00.223176Z",
          "iopub.execute_input": "2021-08-27T12:30:00.223481Z",
          "iopub.status.idle": "2021-08-27T12:30:00.235905Z",
          "shell.execute_reply.started": "2021-08-27T12:30:00.223449Z",
          "shell.execute_reply": "2021-08-27T12:30:00.234976Z"
        },
        "trusted": true,
        "id": "9mVwj51oCI4K"
      },
      "execution_count": null,
      "outputs": []
    },
    {
      "cell_type": "code",
      "source": [
        "from PIL import Image\n",
        "import pandas as pd\n",
        "import matplotlib.pyplot as plt\n",
        "import matplotlib.image as mpimg\n",
        "for a in filenames:\n",
        "    img = mpimg.imread('./{}'.format(a))\n",
        "    imgplot = plt.imshow(img)\n",
        "    plt.axis('off')\n",
        "    plt.show()\n",
        "    img = Image.open('./{}'.format(a))\n",
        "    result = model.predict(img)\n",
        "    # Print top prediction\n",
        "    print('Model Prediction : {}'.format(result.prediction))\n",
        "    # Print all classes\n",
        "    for label, confidence in result.labels:\n",
        "        print(f\"{label}: {round(confidence*100,2)}%\")"
      ],
      "metadata": {
        "execution": {
          "iopub.status.busy": "2021-08-27T12:30:00.23753Z",
          "iopub.execute_input": "2021-08-27T12:30:00.237968Z",
          "iopub.status.idle": "2021-08-27T12:30:02.219693Z",
          "shell.execute_reply.started": "2021-08-27T12:30:00.237922Z",
          "shell.execute_reply": "2021-08-27T12:30:02.218192Z"
        },
        "trusted": true,
        "id": "-dh7kw3LCI4K"
      },
      "execution_count": null,
      "outputs": []
    }
  ]
}